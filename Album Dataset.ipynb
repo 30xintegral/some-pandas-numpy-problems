{
 "cells": [
  {
   "cell_type": "code",
   "execution_count": 1,
   "id": "f4162a00-7328-45f5-9f10-37343aa565c0",
   "metadata": {},
   "outputs": [
    {
     "name": "stdout",
     "output_type": "stream",
     "text": [
      "Total number row 500\n",
      "['Number', 'Year', 'Album', 'Artist', 'Genre', 'Subgenre']\n"
     ]
    }
   ],
   "source": [
    "import csv\n",
    "with open('/home/elvinmahmudzada/Downloads/albumlist.csv', 'r') as albumcsv:\n",
    "    reader = csv.DictReader(albumcsv)\n",
    "    album_list = [row for row in reader]\n",
    "    i = 0\n",
    "    # for row in reader:\n",
    "    #     print(row)\n",
    "    #     album_list.append(row)\n",
    "    #     i+=1\n",
    "    #     if(i>100) : break\n",
    "    print(\"Total number row\", len(album_list))\n",
    "    print(reader.fieldnames)"
   ]
  },
  {
   "cell_type": "code",
   "execution_count": 2,
   "id": "d29a5b36-bb6e-4826-bbdb-38b2802360e2",
   "metadata": {},
   "outputs": [
    {
     "name": "stdout",
     "output_type": "stream",
     "text": [
      "[0, 2, 4, 6, 8, 10, 12, 14, 16, 18, 20, 22, 24, 26, 28, 30, 32, 34, 36, 38, 40, 42, 44, 46, 48, 50, 52, 54, 56, 58, 60, 62, 64, 66, 68, 70, 72, 74, 76, 78, 80, 82, 84, 86, 88, 90, 92, 94, 96, 98]\n"
     ]
    }
   ],
   "source": [
    "even = [i for i in range(0,100,2)]\n",
    "print(even)"
   ]
  },
  {
   "cell_type": "code",
   "execution_count": 3,
   "id": "a605b413-7eb8-4eef-aa40-9be10d807de1",
   "metadata": {},
   "outputs": [
    {
     "name": "stdout",
     "output_type": "stream",
     "text": [
      "[{'Number': '113', 'Year': '1974', 'Album': 'Court and Spark', 'Artist': 'Joni Mitchell', 'Genre': 'Rock', 'Subgenre': 'Soft Rock, Pop Rock'}, {'Number': '136', 'Year': '1974', 'Album': 'Greatest Hits', 'Artist': 'Elton John', 'Genre': 'Rock', 'Subgenre': 'Classic Rock'}, {'Number': '139', 'Year': '1974', 'Album': 'Rejuvenation', 'Artist': 'The Meters', 'Genre': 'Funk / Soul', 'Subgenre': 'Bayou Funk, Soul'}, {'Number': '181', 'Year': '1974', 'Album': 'Natty Dread', 'Artist': 'Bob Marley & The Wailers', 'Genre': 'Reggae', 'Subgenre': 'Reggae, Roots Reggae'}, {'Number': '274', 'Year': '1974', 'Album': 'Nightbirds', 'Artist': 'LaBelle', 'Genre': 'Funk / Soul', 'Subgenre': 'Funk, Disco'}, {'Number': '283', 'Year': '1974', 'Album': \"Can't Get Enough\", 'Artist': 'Barry White', 'Genre': 'Funk / Soul', 'Subgenre': 'Soul, Disco'}, {'Number': '339', 'Year': '1974', 'Album': 'The Heart of Saturday Night', 'Artist': 'Tom Waits', 'Genre': 'Jazz, Pop, Folk, World, & Country', 'Subgenre': 'Contemporary Jazz, Spoken Word'}, {'Number': '375', 'Year': '1974', 'Album': 'Late for the Sky', 'Artist': 'Jackson Browne', 'Genre': 'Rock', 'Subgenre': 'Pop Rock'}, {'Number': '386', 'Year': '1974', 'Album': 'Pretzel Logic', 'Artist': 'Steely Dan', 'Genre': 'Jazz, Rock', 'Subgenre': 'Jazz-Rock, Pop Rock, Classic Rock'}, {'Number': '394', 'Year': '1974', 'Album': 'Good Old Boys', 'Artist': 'Randy Newman', 'Genre': 'Rock, Pop', 'Subgenre': 'Pop Rock, Vocal'}, {'Number': '405', 'Year': '1974', 'Album': 'Radio City', 'Artist': 'Big Star', 'Genre': 'Rock', 'Subgenre': 'Power Pop'}, {'Number': '411', 'Year': '1974', 'Album': '461 Ocean Boulevard', 'Artist': 'Eric Clapton', 'Genre': 'Rock', 'Subgenre': 'Blues Rock'}, {'Number': '425', 'Year': '1974', 'Album': 'Grievous Angel', 'Artist': 'Gram Parsons', 'Genre': 'Rock, Folk, World, & Country', 'Subgenre': 'Country Rock, Honky Tonk'}, {'Number': '471', 'Year': '1974', 'Album': 'I Want to See the Bright Lights Tonight', 'Artist': 'Richard & Linda Thompson', 'Genre': 'Rock', 'Subgenre': 'Classic Rock, Folk Rock'}]\n"
     ]
    }
   ],
   "source": [
    "album_1974 = [row for row in album_list if row['Year']==\"1974\"]\n",
    "print(album_1974)\n"
   ]
  },
  {
   "cell_type": "code",
   "execution_count": 4,
   "id": "67741720-4e0f-45a1-89f9-a4b3f82e5edc",
   "metadata": {},
   "outputs": [
    {
     "name": "stdout",
     "output_type": "stream",
     "text": [
      "[{'Number': '113', 'Year': '1974', 'Album': 'Court and Spark', 'Artist': 'Joni Mitchell', 'Genre': 'Rock', 'Subgenre': 'Soft Rock, Pop Rock'}, {'Number': '136', 'Year': '1974', 'Album': 'Greatest Hits', 'Artist': 'Elton John', 'Genre': 'Rock', 'Subgenre': 'Classic Rock'}, {'Number': '139', 'Year': '1974', 'Album': 'Rejuvenation', 'Artist': 'The Meters', 'Genre': 'Funk / Soul', 'Subgenre': 'Bayou Funk, Soul'}, {'Number': '181', 'Year': '1974', 'Album': 'Natty Dread', 'Artist': 'Bob Marley & The Wailers', 'Genre': 'Reggae', 'Subgenre': 'Reggae, Roots Reggae'}, {'Number': '274', 'Year': '1974', 'Album': 'Nightbirds', 'Artist': 'LaBelle', 'Genre': 'Funk / Soul', 'Subgenre': 'Funk, Disco'}, {'Number': '283', 'Year': '1974', 'Album': \"Can't Get Enough\", 'Artist': 'Barry White', 'Genre': 'Funk / Soul', 'Subgenre': 'Soul, Disco'}, {'Number': '339', 'Year': '1974', 'Album': 'The Heart of Saturday Night', 'Artist': 'Tom Waits', 'Genre': 'Jazz, Pop, Folk, World, & Country', 'Subgenre': 'Contemporary Jazz, Spoken Word'}, {'Number': '375', 'Year': '1974', 'Album': 'Late for the Sky', 'Artist': 'Jackson Browne', 'Genre': 'Rock', 'Subgenre': 'Pop Rock'}, {'Number': '386', 'Year': '1974', 'Album': 'Pretzel Logic', 'Artist': 'Steely Dan', 'Genre': 'Jazz, Rock', 'Subgenre': 'Jazz-Rock, Pop Rock, Classic Rock'}, {'Number': '394', 'Year': '1974', 'Album': 'Good Old Boys', 'Artist': 'Randy Newman', 'Genre': 'Rock, Pop', 'Subgenre': 'Pop Rock, Vocal'}]\n"
     ]
    }
   ],
   "source": [
    "print([row for row in album_list if row['Year']==\"1974\"][:10])"
   ]
  },
  {
   "cell_type": "code",
   "execution_count": 6,
   "id": "b1245b2d-8d67-43d5-a892-8df9e7cfb285",
   "metadata": {},
   "outputs": [
    {
     "name": "stdout",
     "output_type": "stream",
     "text": [
      "20\n"
     ]
    }
   ],
   "source": [
    "rock_album = [row for row in album_list if row['Genre']==\"Rock\" and (row['Subgenre'] == \"Pop Rock\" or row['Subgenre']==\"Fusion\")]\n",
    "print(len(rock_album))"
   ]
  },
  {
   "cell_type": "code",
   "execution_count": 9,
   "id": "7ffc8174-faa8-4c47-bd39-6c05dddb554a",
   "metadata": {},
   "outputs": [
    {
     "name": "stdout",
     "output_type": "stream",
     "text": [
      "None\n",
      "1399\n",
      "2011\n"
     ]
    }
   ],
   "source": [
    "def is_valid_year(string):\n",
    "    try:\n",
    "        year = int(string)\n",
    "        return year\n",
    "    except ValueError:\n",
    "        return False\n",
    "\n",
    "always_years = [int(row['Year']) for row in album_list if is_valid_year(row['Year'])]\n",
    "print(always_years.sort())\n",
    "print(always_years[0])\n",
    "print(always_years[len(always_years)-1])"
   ]
  },
  {
   "cell_type": "code",
   "execution_count": 17,
   "id": "2f38d5ec-8c8f-49e7-93ec-3e5712f2d725",
   "metadata": {},
   "outputs": [
    {
     "name": "stdout",
     "output_type": "stream",
     "text": [
      "{'Number': '381', 'Year': '2011', 'Album': 'The Smile Sessions', 'Artist': 'The Beach Boys', 'Genre': 'Rock', 'Subgenre': 'Pop Rock, Psychedelic Rock'}\n"
     ]
    }
   ],
   "source": [
    "sorted_album_list = [row for row in sorted(album_list, key=lambda row: row['Year'], reverse = True) if is_valid_year(row['Year'])]\n",
    "print(sorted_album_list[0])"
   ]
  },
  {
   "cell_type": "code",
   "execution_count": null,
   "id": "8a2d59d4-9db6-48b6-b8b9-cb97e12cba74",
   "metadata": {},
   "outputs": [],
   "source": []
  }
 ],
 "metadata": {
  "kernelspec": {
   "display_name": "Python 3 (ipykernel)",
   "language": "python",
   "name": "python3"
  },
  "language_info": {
   "codemirror_mode": {
    "name": "ipython",
    "version": 3
   },
   "file_extension": ".py",
   "mimetype": "text/x-python",
   "name": "python",
   "nbconvert_exporter": "python",
   "pygments_lexer": "ipython3",
   "version": "3.13.7"
  }
 },
 "nbformat": 4,
 "nbformat_minor": 5
}
