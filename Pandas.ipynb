{
 "cells": [
  {
   "cell_type": "code",
   "execution_count": 19,
   "id": "b7b12409-241e-488b-9bdf-63b20e3bcb28",
   "metadata": {},
   "outputs": [
    {
     "name": "stdout",
     "output_type": "stream",
     "text": [
      "<class 'pandas.core.series.Series'>\n",
      "<class 'pandas.core.frame.DataFrame'>\n"
     ]
    },
    {
     "name": "stderr",
     "output_type": "stream",
     "text": [
      "/home/elvinmahmudzada/PythonProjects/jupyter_notebook/jupynotebook_env/lib/python3.13/site-packages/openpyxl/worksheet/_reader.py:329: UserWarning: Unknown extension is not supported and will be removed\n",
      "  warn(msg)\n",
      "/home/elvinmahmudzada/PythonProjects/jupyter_notebook/jupynotebook_env/lib/python3.13/site-packages/openpyxl/worksheet/_reader.py:329: UserWarning: Unknown extension is not supported and will be removed\n",
      "  warn(msg)\n"
     ]
    }
   ],
   "source": [
    "import pandas as pn\n",
    "import random as r\n",
    "xls = pn.ExcelFile(\"/home/elvinmahmudzada/Downloads/yelp.xlsx\")\n",
    "df = xls.parse(\"yelp_data\")\n",
    "df_cities = xls.parse(\"cities\")\n",
    "df.head()\n",
    "df= pn.merge(left=df, right=df_cities, how='inner', left_on=\"city_id\", right_on=\"id\")\n",
    "df.head()\n",
    "# df.shape\n",
    "pitts = df[\"city\"] == \"Pittsburgh\"\n",
    "print(type(pitts))\n",
    "# print(pitts)\n",
    "print(type(df[pitts]))\n",
    "# print([r for r in df[pitts] if r['name']==\"Aamco Transmissions\" and r['take_out']==True])\n",
    "# business = df[\"name\"]==\"Aamco Transmissions\"\n",
    "# check = df[business][\"take_out\"]\n",
    "\n"
   ]
  },
  {
   "cell_type": "code",
   "execution_count": 24,
   "id": "27afd2b6-0e9b-4d39-a0bf-8ed74ea1a06f",
   "metadata": {},
   "outputs": [
    {
     "name": "stdout",
     "output_type": "stream",
     "text": [
      "0      False\n",
      "1      False\n",
      "2      False\n",
      "3      False\n",
      "4      False\n",
      "       ...  \n",
      "595     True\n",
      "596     True\n",
      "597     True\n",
      "598     True\n",
      "599     True\n",
      "Name: city, Length: 600, dtype: bool\n"
     ]
    }
   ],
   "source": [
    "lasVegas = df[\"city\"] == \"Las Vegas\"\n",
    "print(df[\"city\"].str.contains(\"Vegas\"))\n",
    "bars = df[\"category_0\"]==\"Bars\"\n",
    "bars2 = df[\"category_1\"]==\"Bars\"\n",
    "restaurant1 = df[\"category_0\"].isin([\"Restaurant\"])\n",
    "restaurant2 = df[\"category_1\"].isin([\"Restaurant\"]) \n",
    "dvBars = df[\"category_0\"]==\"Dive Bars\"\n",
    "dvBars2 = df[\"category_1\"]==\"Dive Bars\"\n"
   ]
  },
  {
   "cell_type": "code",
   "execution_count": 8,
   "id": "f47c95dd-aa61-4a8f-bb8e-8f1d9477bde9",
   "metadata": {},
   "outputs": [
    {
     "data": {
      "text/html": [
       "<div>\n",
       "<style scoped>\n",
       "    .dataframe tbody tr th:only-of-type {\n",
       "        vertical-align: middle;\n",
       "    }\n",
       "\n",
       "    .dataframe tbody tr th {\n",
       "        vertical-align: top;\n",
       "    }\n",
       "\n",
       "    .dataframe thead th {\n",
       "        text-align: right;\n",
       "    }\n",
       "</style>\n",
       "<table border=\"1\" class=\"dataframe\">\n",
       "  <thead>\n",
       "    <tr style=\"text-align: right;\">\n",
       "      <th></th>\n",
       "      <th>name</th>\n",
       "      <th>category_0</th>\n",
       "      <th>category_1</th>\n",
       "      <th>take_out</th>\n",
       "      <th>review_count</th>\n",
       "      <th>stars</th>\n",
       "      <th>city_id</th>\n",
       "      <th>state_id</th>\n",
       "      <th>id</th>\n",
       "      <th>city</th>\n",
       "    </tr>\n",
       "  </thead>\n",
       "  <tbody>\n",
       "    <tr>\n",
       "      <th>451</th>\n",
       "      <td>Huntridge Tavern</td>\n",
       "      <td>Dive Bars</td>\n",
       "      <td>Bars</td>\n",
       "      <td>False</td>\n",
       "      <td>50</td>\n",
       "      <td>4.0</td>\n",
       "      <td>12</td>\n",
       "      <td>2</td>\n",
       "      <td>12</td>\n",
       "      <td>Las Vegas</td>\n",
       "    </tr>\n",
       "  </tbody>\n",
       "</table>\n",
       "</div>"
      ],
      "text/plain": [
       "                 name category_0 category_1  take_out  review_count  stars  \\\n",
       "451  Huntridge Tavern  Dive Bars       Bars     False            50    4.0   \n",
       "\n",
       "     city_id  state_id  id       city  \n",
       "451       12         2  12  Las Vegas  "
      ]
     },
     "execution_count": 8,
     "metadata": {},
     "output_type": "execute_result"
    }
   ],
   "source": [
    "selection2 = df[(dvBars | dvBars2) & lasVegas]\n",
    "starsCriteria = selection2[\"stars\"] >=4\n",
    "diveBars_Stars=selection2[starsCriteria]\n",
    "randomInt = r.randint(0, len(diveBars_Stars))\n",
    "\n",
    "diveBars_Stars[randomInt:randomInt+1]\n",
    "# print(selection2)"
   ]
  },
  {
   "cell_type": "code",
   "execution_count": 9,
   "id": "bd03730c-c0de-43f2-a8e0-c8db73405fb2",
   "metadata": {},
   "outputs": [
    {
     "name": "stdout",
     "output_type": "stream",
     "text": [
      "158\n"
     ]
    }
   ],
   "source": [
    "cat1 = df[\"category_0\"] == \"Nail Salons\"\n",
    "cat2 = df[\"category_1\"] == \"Nail Salons\"\n",
    "henderson = df[\"city\"] == \"Henderson\"\n",
    "# review_Counts = df[\"review_count\"]\n",
    "nail_salons = df[(cat1 | cat2) & henderson]\n",
    "nail_reviews=nail_salons[\"review_count\"]\n",
    "\n",
    "print(nail_reviews.sum())"
   ]
  },
  {
   "cell_type": "code",
   "execution_count": 10,
   "id": "1e05823c-7ae6-4d2a-9d20-a5cf6c658ef5",
   "metadata": {},
   "outputs": [
    {
     "name": "stdout",
     "output_type": "stream",
     "text": [
      "4.5\n"
     ]
    }
   ],
   "source": [
    "catAutoRepair = df[\"category_0\"].str.contains(\"Auto Repair\")\n",
    "catAutoRepair2 = df[\"category_1\"].str.contains(\"Auto Repair\")\n",
    "pittsburgh = df[\"city\"] == \"Pittsburgh\"\n",
    "print(df[(catAutoRepair | catAutoRepair2) & pittsburgh][\"stars\"].mean())"
   ]
  },
  {
   "cell_type": "code",
   "execution_count": 11,
   "id": "a71fc72c-5654-44e8-92e9-9c7545128946",
   "metadata": {},
   "outputs": [
    {
     "data": {
      "text/plain": [
       "array(['Bellevue', 'Braddock', 'Carnegie', 'Homestead', 'Mc Kees Rocks',\n",
       "       'Mount Lebanon', 'Munhall', 'Pittsburgh', 'West Homestead',\n",
       "       'West Mifflin', 'Henderson', 'Las Vegas', 'North Las Vegas'],\n",
       "      dtype=object)"
      ]
     },
     "execution_count": 11,
     "metadata": {},
     "output_type": "execute_result"
    }
   ],
   "source": [
    "df[\"city\"].unique()"
   ]
  },
  {
   "cell_type": "code",
   "execution_count": 12,
   "id": "a59fa02f-c619-40d3-98ad-7306e7fe4ddd",
   "metadata": {},
   "outputs": [
    {
     "name": "stdout",
     "output_type": "stream",
     "text": [
      "Pittsburgh\n"
     ]
    }
   ],
   "source": [
    "allCitiesAutoRepairs = df[catAutoRepair | catAutoRepair2]\n",
    "max=0\n",
    "for city in df[\"city\"].unique():\n",
    "    cityIn = df[\"city\"] == city\n",
    "    avg = df[(catAutoRepair | catAutoRepair2) & cityIn][\"stars\"].mean()\n",
    "    if avg>max:\n",
    "        max=avg\n",
    "        bestCity = city\n",
    "print(bestCity)"
   ]
  },
  {
   "cell_type": "code",
   "execution_count": 13,
   "id": "18e6e4d2-ba5c-4525-ad13-f7be0d174cc2",
   "metadata": {},
   "outputs": [
    {
     "data": {
      "text/plain": [
       "dict_keys(['Bellevue', 'Braddock', 'Carnegie', 'Henderson', 'Homestead', 'Las Vegas', 'Mc Kees Rocks', 'Mount Lebanon', 'Munhall', 'North Las Vegas', 'Pittsburgh', 'West Homestead', 'West Mifflin'])"
      ]
     },
     "execution_count": 13,
     "metadata": {},
     "output_type": "execute_result"
    }
   ],
   "source": [
    "df.groupby(['city']).groups.keys()"
   ]
  },
  {
   "cell_type": "code",
   "execution_count": 14,
   "id": "4a7e9373-d191-42b4-8f44-c502e728e94b",
   "metadata": {},
   "outputs": [
    {
     "data": {
      "text/plain": [
       "133"
      ]
     },
     "execution_count": 14,
     "metadata": {},
     "output_type": "execute_result"
    }
   ],
   "source": [
    "len(df.groupby(['city']).groups['Las Vegas'])"
   ]
  },
  {
   "cell_type": "code",
   "execution_count": 15,
   "id": "57960d32-38ff-41fc-b96c-9ac4b9091fef",
   "metadata": {},
   "outputs": [
    {
     "data": {
      "text/plain": [
       "city\n",
       "Carnegie      2.500000\n",
       "Henderson     3.333333\n",
       "Homestead     3.500000\n",
       "Las Vegas     3.875000\n",
       "Pittsburgh    4.500000\n",
       "Name: stars, dtype: float64"
      ]
     },
     "execution_count": 15,
     "metadata": {},
     "output_type": "execute_result"
    }
   ],
   "source": [
    "df[catAutoRepair | catAutoRepair2].groupby(\"city\")[\"stars\"].mean()"
   ]
  },
  {
   "cell_type": "code",
   "execution_count": 16,
   "id": "71d7ae79-876a-4fb2-9f81-cccc7c58aba9",
   "metadata": {},
   "outputs": [],
   "source": [
    "# df.groupby(\"Product\")[\"Sales\"].agg['sum', 'mean']"
   ]
  },
  {
   "cell_type": "code",
   "execution_count": 17,
   "id": "c173cc8c-d2f3-4067-bc8d-6a26539e7548",
   "metadata": {},
   "outputs": [],
   "source": [
    "rest = df[\"category_0\"].isin([\"Bars\", \"Restaurants\"])\n"
   ]
  },
  {
   "cell_type": "code",
   "execution_count": null,
   "id": "a7f277af-b67b-4fb1-b90e-7feff9554074",
   "metadata": {},
   "outputs": [],
   "source": []
  }
 ],
 "metadata": {
  "kernelspec": {
   "display_name": "Python 3 (ipykernel)",
   "language": "python",
   "name": "python3"
  },
  "language_info": {
   "codemirror_mode": {
    "name": "ipython",
    "version": 3
   },
   "file_extension": ".py",
   "mimetype": "text/x-python",
   "name": "python",
   "nbconvert_exporter": "python",
   "pygments_lexer": "ipython3",
   "version": "3.13.7"
  }
 },
 "nbformat": 4,
 "nbformat_minor": 5
}
