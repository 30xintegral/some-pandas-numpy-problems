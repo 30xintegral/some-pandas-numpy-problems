{
 "cells": [
  {
   "cell_type": "code",
   "execution_count": 1,
   "id": "7495a3ba-37bf-4177-914a-5284c886b551",
   "metadata": {},
   "outputs": [
    {
     "name": "stdout",
     "output_type": "stream",
     "text": [
      "10.6\n"
     ]
    }
   ],
   "source": [
    "x=5\n",
    "y=5.6\n",
    "print(x+y)"
   ]
  },
  {
   "cell_type": "code",
   "execution_count": 2,
   "id": "5bb5d7f8-5df4-4d0c-880a-d2cd0dae15af",
   "metadata": {},
   "outputs": [
    {
     "data": {
      "text/plain": [
       "'ab'"
      ]
     },
     "execution_count": 2,
     "metadata": {},
     "output_type": "execute_result"
    }
   ],
   "source": [
    "\"a\" + \"b\""
   ]
  },
  {
   "cell_type": "code",
   "execution_count": 3,
   "id": "d95489b5-665a-4fe9-bc7d-e4dc9687703f",
   "metadata": {},
   "outputs": [
    {
     "data": {
      "text/plain": [
       "'ab'"
      ]
     },
     "execution_count": 3,
     "metadata": {},
     "output_type": "execute_result"
    }
   ],
   "source": [
    "'a' + 'b'"
   ]
  },
  {
   "cell_type": "code",
   "execution_count": 4,
   "id": "8c2a34f2-a67e-4f52-85c9-78c3eaaa9ced",
   "metadata": {},
   "outputs": [
    {
     "data": {
      "text/plain": [
       "'ab'"
      ]
     },
     "execution_count": 4,
     "metadata": {},
     "output_type": "execute_result"
    }
   ],
   "source": [
    "'a' + \"b\""
   ]
  },
  {
   "cell_type": "code",
   "execution_count": 6,
   "id": "f93f324a-ef0f-447b-b0a6-68d652e5e908",
   "metadata": {},
   "outputs": [
    {
     "data": {
      "text/plain": [
       "3"
      ]
     },
     "execution_count": 6,
     "metadata": {},
     "output_type": "execute_result"
    }
   ],
   "source": [
    "7//2"
   ]
  },
  {
   "cell_type": "code",
   "execution_count": 14,
   "id": "a83e384a-6822-4e1a-bfe3-b43ee890429c",
   "metadata": {},
   "outputs": [
    {
     "data": {
      "text/plain": [
       "3.5"
      ]
     },
     "execution_count": 14,
     "metadata": {},
     "output_type": "execute_result"
    }
   ],
   "source": [
    "7/2"
   ]
  },
  {
   "cell_type": "code",
   "execution_count": 15,
   "id": "c7b6ee7e-18d9-4eec-a74f-2d6645b99054",
   "metadata": {},
   "outputs": [],
   "source": [
    "text = \"abcdefghijklmnop\""
   ]
  },
  {
   "cell_type": "code",
   "execution_count": 24,
   "id": "43f9c17e-15fc-4553-ad7c-e7036bbf537a",
   "metadata": {},
   "outputs": [
    {
     "name": "stdout",
     "output_type": "stream",
     "text": [
      "16\n",
      "abcd\n",
      "efghijklmnop\n",
      "efg\n",
      "o\n",
      "mnop\n",
      "abcdefghijkl\n",
      "acegikmo\n",
      "mno\n"
     ]
    }
   ],
   "source": [
    "print(len(text))\n",
    "print(text[:4])\n",
    "print(text[4:])\n",
    "print(text[4:7])\n",
    "print(text[-2])\n",
    "print(text[-4:])\n",
    "print(text[:-4])\n",
    "print(text[::2])\n",
    "print(text[-4:-1]) #it is like from : to : step"
   ]
  },
  {
   "cell_type": "code",
   "execution_count": 2,
   "id": "88e68ca4-da51-4460-a74a-45a0ede18fcb",
   "metadata": {},
   "outputs": [
    {
     "name": "stdout",
     "output_type": "stream",
     "text": [
      "[0, 1, 4, 9, 16, 25, 36, 49, 64, 81]\n"
     ]
    }
   ],
   "source": [
    "squares = [x**2 for x in range(10)] #lambdas\n",
    "print(squares)"
   ]
  },
  {
   "cell_type": "code",
   "execution_count": 5,
   "id": "ee377ffa-a64d-446a-bd0d-e57383dc17d2",
   "metadata": {},
   "outputs": [
    {
     "name": "stdout",
     "output_type": "stream",
     "text": [
      "True\n"
     ]
    }
   ],
   "source": [
    "test = {}\n",
    "print(isinstance(test, dict))"
   ]
  },
  {
   "cell_type": "code",
   "execution_count": 13,
   "id": "4e28a5d7-a116-4d3c-9ca9-5e10ed70b407",
   "metadata": {},
   "outputs": [
    {
     "name": "stdout",
     "output_type": "stream",
     "text": [
      "set() {'a', 's', 'f', 'g'} {'asf', 'gh', 'lkk'}\n",
      "True\n"
     ]
    }
   ],
   "source": [
    "emptySet = set()\n",
    "set1=set('asfasfasg')\n",
    "set2={\"asf\", \"gh\", \"lkk\"}\n",
    "print(emptySet, set1, set2)\n",
    "print(isinstance(set2.pop(), str))"
   ]
  },
  {
   "cell_type": "code",
   "execution_count": null,
   "id": "329a8280-a9f5-4fad-bd19-f12b994b00db",
   "metadata": {},
   "outputs": [],
   "source": []
  }
 ],
 "metadata": {
  "kernelspec": {
   "display_name": "Python 3 (ipykernel)",
   "language": "python",
   "name": "python3"
  },
  "language_info": {
   "codemirror_mode": {
    "name": "ipython",
    "version": 3
   },
   "file_extension": ".py",
   "mimetype": "text/x-python",
   "name": "python",
   "nbconvert_exporter": "python",
   "pygments_lexer": "ipython3",
   "version": "3.13.7"
  }
 },
 "nbformat": 4,
 "nbformat_minor": 5
}
