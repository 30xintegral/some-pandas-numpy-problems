{
  "nbformat": 4,
  "nbformat_minor": 0,
  "metadata": {
    "colab": {
      "provenance": [],
      "authorship_tag": "ABX9TyN8Ke2ja4+M1vFSAAtWAg27",
      "include_colab_link": true
    },
    "kernelspec": {
      "name": "ir",
      "display_name": "R"
    },
    "language_info": {
      "name": "R"
    }
  },
  "cells": [
    {
      "cell_type": "markdown",
      "metadata": {
        "id": "view-in-github",
        "colab_type": "text"
      },
      "source": [
        "<a href=\"https://colab.research.google.com/github/30xintegral/some-pandas-numpy-problems/blob/main/Data_Cleaning_in_R.ipynb\" target=\"_parent\"><img src=\"https://colab.research.google.com/assets/colab-badge.svg\" alt=\"Open In Colab\"/></a>"
      ]
    },
    {
      "cell_type": "code",
      "execution_count": 17,
      "metadata": {
        "colab": {
          "base_uri": "https://localhost:8080/",
          "height": 1000
        },
        "id": "L2ut29_PqvJH",
        "outputId": "7c3089b7-a1a1-483f-9472-3114a1a452ce"
      },
      "outputs": [
        {
          "output_type": "stream",
          "name": "stderr",
          "text": [
            "Installing package into ‘/usr/local/lib/R/site-library’\n",
            "(as ‘lib’ is unspecified)\n",
            "\n",
            "also installing the dependencies ‘rbibutils’, ‘Rdpack’, ‘minqa’, ‘nloptr’, ‘reformulas’, ‘ucminf’, ‘numDeriv’, ‘iterators’, ‘lme4’, ‘ordinal’, ‘foreach’, ‘shape’, ‘RcppEigen’, ‘pan’, ‘jomo’, ‘glmnet’, ‘mitml’\n",
            "\n",
            "\n",
            "\n",
            "Attaching package: ‘mice’\n",
            "\n",
            "\n",
            "The following object is masked from ‘package:stats’:\n",
            "\n",
            "    filter\n",
            "\n",
            "\n",
            "The following objects are masked from ‘package:base’:\n",
            "\n",
            "    cbind, rbind\n",
            "\n",
            "\n",
            "\u001b[1mRows: \u001b[22m\u001b[34m3276\u001b[39m \u001b[1mColumns: \u001b[22m\u001b[34m10\u001b[39m\n",
            "\u001b[36m──\u001b[39m \u001b[1mColumn specification\u001b[22m \u001b[36m────────────────────────────────────────────────────────\u001b[39m\n",
            "\u001b[1mDelimiter:\u001b[22m \",\"\n",
            "\u001b[32mdbl\u001b[39m (10): ph, Hardness, Solids, Chloramines, Sulfate, Conductivity, Organic_...\n",
            "\n",
            "\u001b[36mℹ\u001b[39m Use `spec()` to retrieve the full column specification for this data.\n",
            "\u001b[36mℹ\u001b[39m Specify the column types or set `show_col_types = FALSE` to quiet this message.\n"
          ]
        },
        {
          "output_type": "stream",
          "name": "stdout",
          "text": [
            "Rows: 3,276\n",
            "Columns: 10\n",
            "$ ph              \u001b[3m\u001b[90m<dbl>\u001b[39m\u001b[23m \u001b[31mNA\u001b[39m\u001b[90m, \u001b[39m3.716080\u001b[90m, \u001b[39m8.099124\u001b[90m, \u001b[39m8.316766\u001b[90m, \u001b[39m9.092223\u001b[90m, \u001b[39m5.584087\u001b[90m, \u001b[39m…\n",
            "$ Hardness        \u001b[3m\u001b[90m<dbl>\u001b[39m\u001b[23m 204.8905\u001b[90m, \u001b[39m129.4229\u001b[90m, \u001b[39m224.2363\u001b[90m, \u001b[39m214.3734\u001b[90m, \u001b[39m181.1015\u001b[90m, \u001b[39m188.…\n",
            "$ Solids          \u001b[3m\u001b[90m<dbl>\u001b[39m\u001b[23m 20791.32\u001b[90m, \u001b[39m18630.06\u001b[90m, \u001b[39m19909.54\u001b[90m, \u001b[39m22018.42\u001b[90m, \u001b[39m17978.99\u001b[90m, \u001b[39m2874…\n",
            "$ Chloramines     \u001b[3m\u001b[90m<dbl>\u001b[39m\u001b[23m 7.300212\u001b[90m, \u001b[39m6.635246\u001b[90m, \u001b[39m9.275884\u001b[90m, \u001b[39m8.059332\u001b[90m, \u001b[39m6.546600\u001b[90m, \u001b[39m7.54…\n",
            "$ Sulfate         \u001b[3m\u001b[90m<dbl>\u001b[39m\u001b[23m 368.5164\u001b[90m, \u001b[39m\u001b[31mNA\u001b[39m\u001b[90m, \u001b[39m\u001b[31mNA\u001b[39m\u001b[90m, \u001b[39m356.8861\u001b[90m, \u001b[39m310.1357\u001b[90m, \u001b[39m326.6784\u001b[90m, \u001b[39m393.66…\n",
            "$ Conductivity    \u001b[3m\u001b[90m<dbl>\u001b[39m\u001b[23m 564.3087\u001b[90m, \u001b[39m592.8854\u001b[90m, \u001b[39m418.6062\u001b[90m, \u001b[39m363.2665\u001b[90m, \u001b[39m398.4108\u001b[90m, \u001b[39m280.…\n",
            "$ Organic_carbon  \u001b[3m\u001b[90m<dbl>\u001b[39m\u001b[23m 10.379783\u001b[90m, \u001b[39m15.180013\u001b[90m, \u001b[39m16.868637\u001b[90m, \u001b[39m18.436524\u001b[90m, \u001b[39m11.558279\u001b[90m,\u001b[39m…\n",
            "$ Trihalomethanes \u001b[3m\u001b[90m<dbl>\u001b[39m\u001b[23m 86.99097\u001b[90m, \u001b[39m56.32908\u001b[90m, \u001b[39m66.42009\u001b[90m, \u001b[39m100.34167\u001b[90m, \u001b[39m31.99799\u001b[90m, \u001b[39m54.…\n",
            "$ Turbidity       \u001b[3m\u001b[90m<dbl>\u001b[39m\u001b[23m 2.963135\u001b[90m, \u001b[39m4.500656\u001b[90m, \u001b[39m3.055934\u001b[90m, \u001b[39m4.628771\u001b[90m, \u001b[39m4.075075\u001b[90m, \u001b[39m2.55…\n",
            "$ Potability      \u001b[3m\u001b[90m<dbl>\u001b[39m\u001b[23m 0\u001b[90m, \u001b[39m0\u001b[90m, \u001b[39m0\u001b[90m, \u001b[39m0\u001b[90m, \u001b[39m0\u001b[90m, \u001b[39m0\u001b[90m, \u001b[39m0\u001b[90m, \u001b[39m0\u001b[90m, \u001b[39m0\u001b[90m, \u001b[39m0\u001b[90m, \u001b[39m0\u001b[90m, \u001b[39m0\u001b[90m, \u001b[39m0\u001b[90m, \u001b[39m0\u001b[90m, \u001b[39m0\u001b[90m, \u001b[39m0\u001b[90m, \u001b[39m0\u001b[90m, \u001b[39m0\u001b[90m, \u001b[39m…\n"
          ]
        },
        {
          "output_type": "display_data",
          "data": {
            "text/plain": [
              "       ph            Hardness          Solids         Chloramines    \n",
              " Min.   : 0.000   Min.   : 47.43   Min.   :  320.9   Min.   : 0.352  \n",
              " 1st Qu.: 6.093   1st Qu.:176.85   1st Qu.:15666.7   1st Qu.: 6.127  \n",
              " Median : 7.037   Median :196.97   Median :20927.8   Median : 7.130  \n",
              " Mean   : 7.081   Mean   :196.37   Mean   :22014.1   Mean   : 7.122  \n",
              " 3rd Qu.: 8.062   3rd Qu.:216.67   3rd Qu.:27332.8   3rd Qu.: 8.115  \n",
              " Max.   :14.000   Max.   :323.12   Max.   :61227.2   Max.   :13.127  \n",
              " NA's   :491                                                         \n",
              "    Sulfate       Conductivity   Organic_carbon  Trihalomethanes  \n",
              " Min.   :129.0   Min.   :181.5   Min.   : 2.20   Min.   :  0.738  \n",
              " 1st Qu.:307.7   1st Qu.:365.7   1st Qu.:12.07   1st Qu.: 55.845  \n",
              " Median :333.1   Median :421.9   Median :14.22   Median : 66.622  \n",
              " Mean   :333.8   Mean   :426.2   Mean   :14.28   Mean   : 66.396  \n",
              " 3rd Qu.:360.0   3rd Qu.:481.8   3rd Qu.:16.56   3rd Qu.: 77.337  \n",
              " Max.   :481.0   Max.   :753.3   Max.   :28.30   Max.   :124.000  \n",
              " NA's   :781                                     NA's   :162      \n",
              "   Turbidity       Potability    \n",
              " Min.   :1.450   Min.   :0.0000  \n",
              " 1st Qu.:3.440   1st Qu.:0.0000  \n",
              " Median :3.955   Median :0.0000  \n",
              " Mean   :3.967   Mean   :0.3901  \n",
              " 3rd Qu.:4.500   3rd Qu.:1.0000  \n",
              " Max.   :6.739   Max.   :1.0000  \n",
              "                                 "
            ]
          },
          "metadata": {}
        },
        {
          "output_type": "display_data",
          "data": {
            "text/html": [
              "<style>\n",
              ".dl-inline {width: auto; margin:0; padding: 0}\n",
              ".dl-inline>dt, .dl-inline>dd {float: none; width: auto; display: inline-block}\n",
              ".dl-inline>dt::after {content: \":\\0020\"; padding-right: .5ex}\n",
              ".dl-inline>dt:not(:first-of-type) {padding-left: .5ex}\n",
              "</style><dl class=dl-inline><dt>ph</dt><dd>491</dd><dt>Hardness</dt><dd>0</dd><dt>Solids</dt><dd>0</dd><dt>Chloramines</dt><dd>0</dd><dt>Sulfate</dt><dd>781</dd><dt>Conductivity</dt><dd>0</dd><dt>Organic_carbon</dt><dd>0</dd><dt>Trihalomethanes</dt><dd>162</dd><dt>Turbidity</dt><dd>0</dd><dt>Potability</dt><dd>0</dd></dl>\n"
            ],
            "text/markdown": "ph\n:   491Hardness\n:   0Solids\n:   0Chloramines\n:   0Sulfate\n:   781Conductivity\n:   0Organic_carbon\n:   0Trihalomethanes\n:   162Turbidity\n:   0Potability\n:   0\n\n",
            "text/latex": "\\begin{description*}\n\\item[ph] 491\n\\item[Hardness] 0\n\\item[Solids] 0\n\\item[Chloramines] 0\n\\item[Sulfate] 781\n\\item[Conductivity] 0\n\\item[Organic\\textbackslash{}\\_carbon] 0\n\\item[Trihalomethanes] 162\n\\item[Turbidity] 0\n\\item[Potability] 0\n\\end{description*}\n",
            "text/plain": [
              "             ph        Hardness          Solids     Chloramines         Sulfate \n",
              "            491               0               0               0             781 \n",
              "   Conductivity  Organic_carbon Trihalomethanes       Turbidity      Potability \n",
              "              0               0             162               0               0 "
            ]
          },
          "metadata": {}
        }
      ],
      "source": [
        "install.packages(\"mice\")\n",
        "\n",
        "library(tidyverse)\n",
        "library(mice)\n",
        "\n",
        "raw_data <- read_csv(\"/content/water_potability.csv\")\n",
        "\n",
        "glimpse(raw_data)\n",
        "summary(raw_data)\n",
        "\n",
        "colSums(is.na(raw_data))\n"
      ]
    },
    {
      "cell_type": "code",
      "source": [
        "df= as.data.frame(raw_data)\n",
        "head(df)"
      ],
      "metadata": {
        "colab": {
          "base_uri": "https://localhost:8080/",
          "height": 306
        },
        "id": "qh0Ao5DlxBw6",
        "outputId": "cfd59362-754a-4913-c685-7a0962682dd4"
      },
      "execution_count": 18,
      "outputs": [
        {
          "output_type": "display_data",
          "data": {
            "text/html": [
              "<table class=\"dataframe\">\n",
              "<caption>A data.frame: 6 × 10</caption>\n",
              "<thead>\n",
              "\t<tr><th></th><th scope=col>ph</th><th scope=col>Hardness</th><th scope=col>Solids</th><th scope=col>Chloramines</th><th scope=col>Sulfate</th><th scope=col>Conductivity</th><th scope=col>Organic_carbon</th><th scope=col>Trihalomethanes</th><th scope=col>Turbidity</th><th scope=col>Potability</th></tr>\n",
              "\t<tr><th></th><th scope=col>&lt;dbl&gt;</th><th scope=col>&lt;dbl&gt;</th><th scope=col>&lt;dbl&gt;</th><th scope=col>&lt;dbl&gt;</th><th scope=col>&lt;dbl&gt;</th><th scope=col>&lt;dbl&gt;</th><th scope=col>&lt;dbl&gt;</th><th scope=col>&lt;dbl&gt;</th><th scope=col>&lt;dbl&gt;</th><th scope=col>&lt;dbl&gt;</th></tr>\n",
              "</thead>\n",
              "<tbody>\n",
              "\t<tr><th scope=row>1</th><td>      NA</td><td>204.8905</td><td>20791.32</td><td>7.300212</td><td>368.5164</td><td>564.3087</td><td>10.379783</td><td> 86.99097</td><td>2.963135</td><td>0</td></tr>\n",
              "\t<tr><th scope=row>2</th><td>3.716080</td><td>129.4229</td><td>18630.06</td><td>6.635246</td><td>      NA</td><td>592.8854</td><td>15.180013</td><td> 56.32908</td><td>4.500656</td><td>0</td></tr>\n",
              "\t<tr><th scope=row>3</th><td>8.099124</td><td>224.2363</td><td>19909.54</td><td>9.275884</td><td>      NA</td><td>418.6062</td><td>16.868637</td><td> 66.42009</td><td>3.055934</td><td>0</td></tr>\n",
              "\t<tr><th scope=row>4</th><td>8.316766</td><td>214.3734</td><td>22018.42</td><td>8.059332</td><td>356.8861</td><td>363.2665</td><td>18.436524</td><td>100.34167</td><td>4.628771</td><td>0</td></tr>\n",
              "\t<tr><th scope=row>5</th><td>9.092223</td><td>181.1015</td><td>17978.99</td><td>6.546600</td><td>310.1357</td><td>398.4108</td><td>11.558279</td><td> 31.99799</td><td>4.075075</td><td>0</td></tr>\n",
              "\t<tr><th scope=row>6</th><td>5.584087</td><td>188.3133</td><td>28748.69</td><td>7.544869</td><td>326.6784</td><td>280.4679</td><td> 8.399735</td><td> 54.91786</td><td>2.559708</td><td>0</td></tr>\n",
              "</tbody>\n",
              "</table>\n"
            ],
            "text/markdown": "\nA data.frame: 6 × 10\n\n| <!--/--> | ph &lt;dbl&gt; | Hardness &lt;dbl&gt; | Solids &lt;dbl&gt; | Chloramines &lt;dbl&gt; | Sulfate &lt;dbl&gt; | Conductivity &lt;dbl&gt; | Organic_carbon &lt;dbl&gt; | Trihalomethanes &lt;dbl&gt; | Turbidity &lt;dbl&gt; | Potability &lt;dbl&gt; |\n|---|---|---|---|---|---|---|---|---|---|---|\n| 1 |       NA | 204.8905 | 20791.32 | 7.300212 | 368.5164 | 564.3087 | 10.379783 |  86.99097 | 2.963135 | 0 |\n| 2 | 3.716080 | 129.4229 | 18630.06 | 6.635246 |       NA | 592.8854 | 15.180013 |  56.32908 | 4.500656 | 0 |\n| 3 | 8.099124 | 224.2363 | 19909.54 | 9.275884 |       NA | 418.6062 | 16.868637 |  66.42009 | 3.055934 | 0 |\n| 4 | 8.316766 | 214.3734 | 22018.42 | 8.059332 | 356.8861 | 363.2665 | 18.436524 | 100.34167 | 4.628771 | 0 |\n| 5 | 9.092223 | 181.1015 | 17978.99 | 6.546600 | 310.1357 | 398.4108 | 11.558279 |  31.99799 | 4.075075 | 0 |\n| 6 | 5.584087 | 188.3133 | 28748.69 | 7.544869 | 326.6784 | 280.4679 |  8.399735 |  54.91786 | 2.559708 | 0 |\n\n",
            "text/latex": "A data.frame: 6 × 10\n\\begin{tabular}{r|llllllllll}\n  & ph & Hardness & Solids & Chloramines & Sulfate & Conductivity & Organic\\_carbon & Trihalomethanes & Turbidity & Potability\\\\\n  & <dbl> & <dbl> & <dbl> & <dbl> & <dbl> & <dbl> & <dbl> & <dbl> & <dbl> & <dbl>\\\\\n\\hline\n\t1 &       NA & 204.8905 & 20791.32 & 7.300212 & 368.5164 & 564.3087 & 10.379783 &  86.99097 & 2.963135 & 0\\\\\n\t2 & 3.716080 & 129.4229 & 18630.06 & 6.635246 &       NA & 592.8854 & 15.180013 &  56.32908 & 4.500656 & 0\\\\\n\t3 & 8.099124 & 224.2363 & 19909.54 & 9.275884 &       NA & 418.6062 & 16.868637 &  66.42009 & 3.055934 & 0\\\\\n\t4 & 8.316766 & 214.3734 & 22018.42 & 8.059332 & 356.8861 & 363.2665 & 18.436524 & 100.34167 & 4.628771 & 0\\\\\n\t5 & 9.092223 & 181.1015 & 17978.99 & 6.546600 & 310.1357 & 398.4108 & 11.558279 &  31.99799 & 4.075075 & 0\\\\\n\t6 & 5.584087 & 188.3133 & 28748.69 & 7.544869 & 326.6784 & 280.4679 &  8.399735 &  54.91786 & 2.559708 & 0\\\\\n\\end{tabular}\n",
            "text/plain": [
              "  ph       Hardness Solids   Chloramines Sulfate  Conductivity Organic_carbon\n",
              "1       NA 204.8905 20791.32 7.300212    368.5164 564.3087     10.379783     \n",
              "2 3.716080 129.4229 18630.06 6.635246          NA 592.8854     15.180013     \n",
              "3 8.099124 224.2363 19909.54 9.275884          NA 418.6062     16.868637     \n",
              "4 8.316766 214.3734 22018.42 8.059332    356.8861 363.2665     18.436524     \n",
              "5 9.092223 181.1015 17978.99 6.546600    310.1357 398.4108     11.558279     \n",
              "6 5.584087 188.3133 28748.69 7.544869    326.6784 280.4679      8.399735     \n",
              "  Trihalomethanes Turbidity Potability\n",
              "1  86.99097       2.963135  0         \n",
              "2  56.32908       4.500656  0         \n",
              "3  66.42009       3.055934  0         \n",
              "4 100.34167       4.628771  0         \n",
              "5  31.99799       4.075075  0         \n",
              "6  54.91786       2.559708  0         "
            ]
          },
          "metadata": {}
        }
      ]
    },
    {
      "cell_type": "code",
      "source": [
        "df_lr = df%>%\n",
        "  mice(method=\"norm.predict\")%>%\n",
        "  complete()"
      ],
      "metadata": {
        "colab": {
          "base_uri": "https://localhost:8080/"
        },
        "id": "nZ2NY8rR-TA6",
        "outputId": "9fbf3bc1-b0ee-427c-b807-710163f8845a"
      },
      "execution_count": 19,
      "outputs": [
        {
          "output_type": "stream",
          "name": "stdout",
          "text": [
            "\n",
            " iter imp variable\n",
            "  1   1  ph  Sulfate  Trihalomethanes\n",
            "  1   2  ph  Sulfate  Trihalomethanes\n",
            "  1   3  ph  Sulfate  Trihalomethanes\n",
            "  1   4  ph  Sulfate  Trihalomethanes\n",
            "  1   5  ph  Sulfate  Trihalomethanes\n",
            "  2   1  ph  Sulfate  Trihalomethanes\n",
            "  2   2  ph  Sulfate  Trihalomethanes\n",
            "  2   3  ph  Sulfate  Trihalomethanes\n",
            "  2   4  ph  Sulfate  Trihalomethanes\n",
            "  2   5  ph  Sulfate  Trihalomethanes\n",
            "  3   1  ph  Sulfate  Trihalomethanes\n",
            "  3   2  ph  Sulfate  Trihalomethanes\n",
            "  3   3  ph  Sulfate  Trihalomethanes\n",
            "  3   4  ph  Sulfate  Trihalomethanes\n",
            "  3   5  ph  Sulfate  Trihalomethanes\n",
            "  4   1  ph  Sulfate  Trihalomethanes\n",
            "  4   2  ph  Sulfate  Trihalomethanes\n",
            "  4   3  ph  Sulfate  Trihalomethanes\n",
            "  4   4  ph  Sulfate  Trihalomethanes\n",
            "  4   5  ph  Sulfate  Trihalomethanes\n",
            "  5   1  ph  Sulfate  Trihalomethanes\n",
            "  5   2  ph  Sulfate  Trihalomethanes\n",
            "  5   3  ph  Sulfate  Trihalomethanes\n",
            "  5   4  ph  Sulfate  Trihalomethanes\n",
            "  5   5  ph  Sulfate  Trihalomethanes\n"
          ]
        }
      ]
    },
    {
      "cell_type": "code",
      "source": [
        "colSums(is.na(df_lr))\n"
      ],
      "metadata": {
        "colab": {
          "base_uri": "https://localhost:8080/",
          "height": 52
        },
        "id": "i-bdhHc__FhI",
        "outputId": "e002071b-6fc4-4c75-c644-cb99c0b231b7"
      },
      "execution_count": 20,
      "outputs": [
        {
          "output_type": "display_data",
          "data": {
            "text/html": [
              "<style>\n",
              ".dl-inline {width: auto; margin:0; padding: 0}\n",
              ".dl-inline>dt, .dl-inline>dd {float: none; width: auto; display: inline-block}\n",
              ".dl-inline>dt::after {content: \":\\0020\"; padding-right: .5ex}\n",
              ".dl-inline>dt:not(:first-of-type) {padding-left: .5ex}\n",
              "</style><dl class=dl-inline><dt>ph</dt><dd>0</dd><dt>Hardness</dt><dd>0</dd><dt>Solids</dt><dd>0</dd><dt>Chloramines</dt><dd>0</dd><dt>Sulfate</dt><dd>0</dd><dt>Conductivity</dt><dd>0</dd><dt>Organic_carbon</dt><dd>0</dd><dt>Trihalomethanes</dt><dd>0</dd><dt>Turbidity</dt><dd>0</dd><dt>Potability</dt><dd>0</dd></dl>\n"
            ],
            "text/markdown": "ph\n:   0Hardness\n:   0Solids\n:   0Chloramines\n:   0Sulfate\n:   0Conductivity\n:   0Organic_carbon\n:   0Trihalomethanes\n:   0Turbidity\n:   0Potability\n:   0\n\n",
            "text/latex": "\\begin{description*}\n\\item[ph] 0\n\\item[Hardness] 0\n\\item[Solids] 0\n\\item[Chloramines] 0\n\\item[Sulfate] 0\n\\item[Conductivity] 0\n\\item[Organic\\textbackslash{}\\_carbon] 0\n\\item[Trihalomethanes] 0\n\\item[Turbidity] 0\n\\item[Potability] 0\n\\end{description*}\n",
            "text/plain": [
              "             ph        Hardness          Solids     Chloramines         Sulfate \n",
              "              0               0               0               0               0 \n",
              "   Conductivity  Organic_carbon Trihalomethanes       Turbidity      Potability \n",
              "              0               0               0               0               0 "
            ]
          },
          "metadata": {}
        }
      ]
    },
    {
      "cell_type": "code",
      "source": [
        "head(df_lr)\n"
      ],
      "metadata": {
        "colab": {
          "base_uri": "https://localhost:8080/",
          "height": 306
        },
        "id": "ZoEtCzjNJEqr",
        "outputId": "7047913e-d609-49d1-ff93-1c1ddd62a1fc"
      },
      "execution_count": 21,
      "outputs": [
        {
          "output_type": "display_data",
          "data": {
            "text/html": [
              "<table class=\"dataframe\">\n",
              "<caption>A data.frame: 6 × 10</caption>\n",
              "<thead>\n",
              "\t<tr><th></th><th scope=col>ph</th><th scope=col>Hardness</th><th scope=col>Solids</th><th scope=col>Chloramines</th><th scope=col>Sulfate</th><th scope=col>Conductivity</th><th scope=col>Organic_carbon</th><th scope=col>Trihalomethanes</th><th scope=col>Turbidity</th><th scope=col>Potability</th></tr>\n",
              "\t<tr><th></th><th scope=col>&lt;dbl&gt;</th><th scope=col>&lt;dbl&gt;</th><th scope=col>&lt;dbl&gt;</th><th scope=col>&lt;dbl&gt;</th><th scope=col>&lt;dbl&gt;</th><th scope=col>&lt;dbl&gt;</th><th scope=col>&lt;dbl&gt;</th><th scope=col>&lt;dbl&gt;</th><th scope=col>&lt;dbl&gt;</th><th scope=col>&lt;dbl&gt;</th></tr>\n",
              "</thead>\n",
              "<tbody>\n",
              "\t<tr><th scope=row>1</th><td>7.217101</td><td>204.8905</td><td>20791.32</td><td>7.300212</td><td>368.5164</td><td>564.3087</td><td>10.379783</td><td> 86.99097</td><td>2.963135</td><td>0</td></tr>\n",
              "\t<tr><th scope=row>2</th><td>3.716080</td><td>129.4229</td><td>18630.06</td><td>6.635246</td><td>344.7755</td><td>592.8854</td><td>15.180013</td><td> 56.32908</td><td>4.500656</td><td>0</td></tr>\n",
              "\t<tr><th scope=row>3</th><td>8.099124</td><td>224.2363</td><td>19909.54</td><td>9.275884</td><td>334.7608</td><td>418.6062</td><td>16.868637</td><td> 66.42009</td><td>3.055934</td><td>0</td></tr>\n",
              "\t<tr><th scope=row>4</th><td>8.316766</td><td>214.3734</td><td>22018.42</td><td>8.059332</td><td>356.8861</td><td>363.2665</td><td>18.436524</td><td>100.34167</td><td>4.628771</td><td>0</td></tr>\n",
              "\t<tr><th scope=row>5</th><td>9.092223</td><td>181.1015</td><td>17978.99</td><td>6.546600</td><td>310.1357</td><td>398.4108</td><td>11.558279</td><td> 31.99799</td><td>4.075075</td><td>0</td></tr>\n",
              "\t<tr><th scope=row>6</th><td>5.584087</td><td>188.3133</td><td>28748.69</td><td>7.544869</td><td>326.6784</td><td>280.4679</td><td> 8.399735</td><td> 54.91786</td><td>2.559708</td><td>0</td></tr>\n",
              "</tbody>\n",
              "</table>\n"
            ],
            "text/markdown": "\nA data.frame: 6 × 10\n\n| <!--/--> | ph &lt;dbl&gt; | Hardness &lt;dbl&gt; | Solids &lt;dbl&gt; | Chloramines &lt;dbl&gt; | Sulfate &lt;dbl&gt; | Conductivity &lt;dbl&gt; | Organic_carbon &lt;dbl&gt; | Trihalomethanes &lt;dbl&gt; | Turbidity &lt;dbl&gt; | Potability &lt;dbl&gt; |\n|---|---|---|---|---|---|---|---|---|---|---|\n| 1 | 7.217101 | 204.8905 | 20791.32 | 7.300212 | 368.5164 | 564.3087 | 10.379783 |  86.99097 | 2.963135 | 0 |\n| 2 | 3.716080 | 129.4229 | 18630.06 | 6.635246 | 344.7755 | 592.8854 | 15.180013 |  56.32908 | 4.500656 | 0 |\n| 3 | 8.099124 | 224.2363 | 19909.54 | 9.275884 | 334.7608 | 418.6062 | 16.868637 |  66.42009 | 3.055934 | 0 |\n| 4 | 8.316766 | 214.3734 | 22018.42 | 8.059332 | 356.8861 | 363.2665 | 18.436524 | 100.34167 | 4.628771 | 0 |\n| 5 | 9.092223 | 181.1015 | 17978.99 | 6.546600 | 310.1357 | 398.4108 | 11.558279 |  31.99799 | 4.075075 | 0 |\n| 6 | 5.584087 | 188.3133 | 28748.69 | 7.544869 | 326.6784 | 280.4679 |  8.399735 |  54.91786 | 2.559708 | 0 |\n\n",
            "text/latex": "A data.frame: 6 × 10\n\\begin{tabular}{r|llllllllll}\n  & ph & Hardness & Solids & Chloramines & Sulfate & Conductivity & Organic\\_carbon & Trihalomethanes & Turbidity & Potability\\\\\n  & <dbl> & <dbl> & <dbl> & <dbl> & <dbl> & <dbl> & <dbl> & <dbl> & <dbl> & <dbl>\\\\\n\\hline\n\t1 & 7.217101 & 204.8905 & 20791.32 & 7.300212 & 368.5164 & 564.3087 & 10.379783 &  86.99097 & 2.963135 & 0\\\\\n\t2 & 3.716080 & 129.4229 & 18630.06 & 6.635246 & 344.7755 & 592.8854 & 15.180013 &  56.32908 & 4.500656 & 0\\\\\n\t3 & 8.099124 & 224.2363 & 19909.54 & 9.275884 & 334.7608 & 418.6062 & 16.868637 &  66.42009 & 3.055934 & 0\\\\\n\t4 & 8.316766 & 214.3734 & 22018.42 & 8.059332 & 356.8861 & 363.2665 & 18.436524 & 100.34167 & 4.628771 & 0\\\\\n\t5 & 9.092223 & 181.1015 & 17978.99 & 6.546600 & 310.1357 & 398.4108 & 11.558279 &  31.99799 & 4.075075 & 0\\\\\n\t6 & 5.584087 & 188.3133 & 28748.69 & 7.544869 & 326.6784 & 280.4679 &  8.399735 &  54.91786 & 2.559708 & 0\\\\\n\\end{tabular}\n",
            "text/plain": [
              "  ph       Hardness Solids   Chloramines Sulfate  Conductivity Organic_carbon\n",
              "1 7.217101 204.8905 20791.32 7.300212    368.5164 564.3087     10.379783     \n",
              "2 3.716080 129.4229 18630.06 6.635246    344.7755 592.8854     15.180013     \n",
              "3 8.099124 224.2363 19909.54 9.275884    334.7608 418.6062     16.868637     \n",
              "4 8.316766 214.3734 22018.42 8.059332    356.8861 363.2665     18.436524     \n",
              "5 9.092223 181.1015 17978.99 6.546600    310.1357 398.4108     11.558279     \n",
              "6 5.584087 188.3133 28748.69 7.544869    326.6784 280.4679      8.399735     \n",
              "  Trihalomethanes Turbidity Potability\n",
              "1  86.99097       2.963135  0         \n",
              "2  56.32908       4.500656  0         \n",
              "3  66.42009       3.055934  0         \n",
              "4 100.34167       4.628771  0         \n",
              "5  31.99799       4.075075  0         \n",
              "6  54.91786       2.559708  0         "
            ]
          },
          "metadata": {}
        }
      ]
    },
    {
      "cell_type": "code",
      "source": [],
      "metadata": {
        "id": "yHlG2sOcJ6r6"
      },
      "execution_count": null,
      "outputs": []
    }
  ]
}